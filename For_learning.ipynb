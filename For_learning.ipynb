{
 "cells": [
  {
   "cell_type": "code",
   "id": "initial_id",
   "metadata": {
    "collapsed": true,
    "jupyter": {
     "is_executing": true
    }
   },
   "source": "",
   "outputs": [],
   "execution_count": null
  },
  {
   "metadata": {},
   "cell_type": "code",
   "outputs": [],
   "execution_count": null,
   "source": "",
   "id": "1e6883c183f229cd"
  },
  {
   "metadata": {},
   "cell_type": "code",
   "outputs": [],
   "execution_count": null,
   "source": [
    "from ultralytics import YOLO\n",
    "\n",
    "# 베이스 모델 로드\n",
    "model = YOLO(\"yolo11n.pt\")\n",
    "\n",
    "# 모델 학습\n",
    "model.train(data='datasets/mask_ob/mask.yaml',\n",
    "            epochs=20,\n",
    "            project='mask',\n",
    "            name='mask_model')"
   ],
   "id": "9ce4492e2ed46f5a"
  },
  {
   "metadata": {},
   "cell_type": "code",
   "outputs": [],
   "execution_count": null,
   "source": [
    "import torch\n",
    "from pathlib import Path\n",
    "import matplotlib.pyplot as plt\n",
    "from PIL import Image\n",
    "from ultralytics import YOLO\n",
    "\n",
    "# YOLO 모델 로드\n",
    "model = YOLO(\"mask/mask_model/weights/best.pt\")\n",
    "\n",
    "# 평가 데이터 경로\n",
    "root = Path(\"datasets/mask_ob/images/test\")\n",
    "output_dir = Path(\"datasets/mask_ob/cropped\")  # 크롭된 이미지 저장 폴더\n",
    "output_dir.mkdir(parents=True, exist_ok=True)  # 폴더가 없으면 생성\n",
    "\n",
    "plt.figure(figsize=(20, 20))\n",
    "i = 0\n",
    "\n",
    "for path in root.glob(\"*.png\"):\n",
    "    # 모델 예측\n",
    "    results = model(path)\n",
    "    im_array = results[0].plot()  # 시각화용 이미지 배열\n",
    "    im = Image.fromarray(im_array[..., ::-1])  # RGB PIL 이미지 변환\n",
    "\n",
    "    # 원본 이미지 로드\n",
    "    original_image = Image.open(path)\n",
    "\n",
    "    # 예측된 객체별로 바운딩 박스 크롭 후 저장\n",
    "    boxes = results[0].boxes.xyxy.cpu().numpy()  # 감지된 객체의 바운딩 박스 좌표 (x1, y1, x2, y2)\n",
    "\n",
    "    for j, (x1, y1, x2, y2) in enumerate(boxes):\n",
    "        cropped = original_image.crop((x1, y1, x2, y2))  # 객체 크롭\n",
    "        cropped_path = output_dir / f\"{path.stem}_object{j}.png\"  # 저장 경로\n",
    "        cropped.save(cropped_path)  # 크롭된 이미지 저장\n",
    "\n",
    "    # 시각화\n",
    "    i += 1\n",
    "    ax = plt.subplot(3, 4, i)\n",
    "    ax.imshow(im)\n",
    "    ax.axis(\"off\")  # 축 제거\n",
    "\n",
    "plt.tight_layout()\n",
    "plt.show()\n"
   ],
   "id": "54fa883b88b6cad"
  }
 ],
 "metadata": {
  "kernelspec": {
   "display_name": "Python 3",
   "language": "python",
   "name": "python3"
  },
  "language_info": {
   "codemirror_mode": {
    "name": "ipython",
    "version": 2
   },
   "file_extension": ".py",
   "mimetype": "text/x-python",
   "name": "python",
   "nbconvert_exporter": "python",
   "pygments_lexer": "ipython2",
   "version": "2.7.6"
  }
 },
 "nbformat": 4,
 "nbformat_minor": 5
}
